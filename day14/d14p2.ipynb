{
 "cells": [
  {
   "cell_type": "code",
   "id": "initial_id",
   "metadata": {
    "collapsed": true,
    "ExecuteTime": {
     "end_time": "2024-12-14T05:53:36.511425Z",
     "start_time": "2024-12-14T05:53:33.818530Z"
    }
   },
   "source": "import matplotlib.pyplot as plt",
   "outputs": [],
   "execution_count": 1
  },
  {
   "metadata": {
    "ExecuteTime": {
     "end_time": "2024-12-14T05:53:53.086548Z",
     "start_time": "2024-12-14T05:53:53.082387Z"
    }
   },
   "cell_type": "code",
   "source": [
    "class Robot:\n",
    "    def __init__(self, x, y, vx, vy):\n",
    "        self.x = x\n",
    "        self.y = y\n",
    "        self.vx = vx\n",
    "        self.vy = vy\n",
    "    def advance(self,nx,ny):\n",
    "        self.x += self.vx\n",
    "        self.x = self.x % nx\n",
    "        self.y += self.vy\n",
    "        self.y = self.y % ny\n"
   ],
   "id": "e5e16dba4ad1efe4",
   "outputs": [],
   "execution_count": 2
  },
  {
   "metadata": {
    "ExecuteTime": {
     "end_time": "2024-12-14T06:25:03.159002Z",
     "start_time": "2024-12-14T06:25:03.154799Z"
    }
   },
   "cell_type": "code",
   "source": [
    "def read_input(infile):\n",
    "    robots = []\n",
    "    with open(infile) as f:\n",
    "        for line in f:\n",
    "            p = line.strip().split()\n",
    "            position = p[0].split(\"=\")[1]\n",
    "            xy = position.split(',')\n",
    "            x = int(xy[0])\n",
    "            y = int(xy[1])\n",
    "            velocity = p[1].split(\"=\")[1]\n",
    "            vxvy = velocity.split(',')\n",
    "            vx = int(vxvy[0])\n",
    "            vy = int(vxvy[1])\n",
    "            r = Robot(x,y,vx,vy)\n",
    "            robots.append(r)\n",
    "    return robots"
   ],
   "id": "ad89152f42809cc7",
   "outputs": [],
   "execution_count": 23
  },
  {
   "metadata": {
    "ExecuteTime": {
     "end_time": "2024-12-14T06:25:05.730160Z",
     "start_time": "2024-12-14T06:25:05.725314Z"
    }
   },
   "cell_type": "code",
   "source": [
    "fname = \"input.txt\"\n",
    "nx = 101\n",
    "ny = 103\n",
    "rs = read_input(fname)"
   ],
   "id": "9b4eab406ada8d68",
   "outputs": [],
   "execution_count": 24
  },
  {
   "metadata": {
    "ExecuteTime": {
     "end_time": "2024-12-14T06:25:09.403303Z",
     "start_time": "2024-12-14T06:25:09.400014Z"
    }
   },
   "cell_type": "code",
   "source": [
    "def plot_robots(rs,nx,ny):\n",
    "    x = [r.x for r in rs]\n",
    "    y = [r.y for r in rs]\n",
    "    plt.plot(x,y,'.')\n",
    "    plt.show()"
   ],
   "id": "3d877f974a7714d4",
   "outputs": [],
   "execution_count": 25
  },
  {
   "metadata": {
    "ExecuteTime": {
     "end_time": "2024-12-14T06:24:58.169879Z",
     "start_time": "2024-12-14T06:24:58.043309Z"
    }
   },
   "cell_type": "code",
   "source": [
    "#This is basically where you see the pattern.  But it makes a lot of pictures so I'm hiding that for the moment to make the\n",
    "# notebook more readable.\n",
    "for i in range(1000):\n",
    "    #print(i)\n",
    "    #plot_robots(rs,nx,ny)\n",
    "    for r in rs:\n",
    "        r.advance(nx,ny)"
   ],
   "id": "cfe391537418ada9",
   "outputs": [],
   "execution_count": 22
  },
  {
   "metadata": {
    "ExecuteTime": {
     "end_time": "2024-12-14T06:26:07.881907Z",
     "start_time": "2024-12-14T06:26:06.830155Z"
    }
   },
   "cell_type": "code",
   "source": [
    "for i in range(8087):\n",
    "    for r in rs:\n",
    "        r.advance(nx,ny)"
   ],
   "id": "55ce8f010b0714c3",
   "outputs": [],
   "execution_count": 26
  },
  {
   "metadata": {
    "ExecuteTime": {
     "end_time": "2024-12-14T06:26:20.095245Z",
     "start_time": "2024-12-14T06:26:19.987455Z"
    }
   },
   "cell_type": "code",
   "source": "plot_robots(rs,nx,ny)",
   "id": "896a3250a723b34",
   "outputs": [
    {
     "data": {
      "text/plain": [
       "<Figure size 640x480 with 1 Axes>"
      ],
      "image/png": "[encoded data removed]"
     },
     "metadata": {},
     "output_type": "display_data"
    }
   ],
   "execution_count": 27
  },
  {
   "metadata": {},
   "cell_type": "code",
   "outputs": [],
   "execution_count": null,
   "source": "",
   "id": "4e61c5e3d81daa22"
  }
 ],
 "metadata": {
  "kernelspec": {
   "display_name": "Python 3",
   "language": "python",
   "name": "python3"
  },
  "language_info": {
   "codemirror_mode": {
    "name": "ipython",
    "version": 2
   },
   "file_extension": ".py",
   "mimetype": "text/x-python",
   "name": "python",
   "nbconvert_exporter": "python",
   "pygments_lexer": "ipython2",
   "version": "2.7.6"
  }
 },
 "nbformat": 4,
 "nbformat_minor": 5
}
